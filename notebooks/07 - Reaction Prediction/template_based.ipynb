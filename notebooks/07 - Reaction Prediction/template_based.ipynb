{
 "cells": [
  {
   "cell_type": "markdown",
   "id": "b4b4d368-3e7e-461d-bd7f-1c81a791e14d",
   "metadata": {},
   "source": [
    "<a href=\"https://colab.research.google.com/github/schwallergroup/ai4chem_course/blob/main/notebooks/07%20-%20Reaction%20Prediction%202/template_based.ipynb\" target=\"_parent\"><img src=\"https://colab.research.google.com/assets/colab-badge.svg\" alt=\"Open In Colab\"/></a>"
   ]
  },
  {
   "cell_type": "markdown",
   "id": "92e284fe-c36c-47cc-b8d6-e716043b2c0c",
   "metadata": {},
   "source": [
    "# TODO\n",
    "\n",
    "- Introduction to reaction prediction\n",
    "- Challenges\n",
    "- What data exists\n",
    "- First approach: template based.\n",
    "    - Explain intuition (i.e. similar to selecting which `reaction type` will happen given the reactants: grignard, diels-alder, blabla)\n",
    "    - What are reaction templates (explain what they describe: change in molecular graphs and molecular environment.)\n",
    "- Building library of templates: analogous to extrating all the `named reactions` from our dataset.\n",
    "- ML model: The problem is to select the most likely template given the reactants, this sounds like classification! Use your favorite classfication model and train to predict template :)\n",
    "- Application?"
   ]
  },
  {
   "cell_type": "code",
   "execution_count": null,
   "id": "1e904b66-96ff-43b8-9b19-d64914bb5a5d",
   "metadata": {},
   "outputs": [],
   "source": []
  }
 ],
 "metadata": {
  "kernelspec": {
   "display_name": "ai4chem",
   "language": "python",
   "name": "ai4chem"
  },
  "language_info": {
   "codemirror_mode": {
    "name": "ipython",
    "version": 3
   },
   "file_extension": ".py",
   "mimetype": "text/x-python",
   "name": "python",
   "nbconvert_exporter": "python",
   "pygments_lexer": "ipython3",
   "version": "3.8.16"
  }
 },
 "nbformat": 4,
 "nbformat_minor": 5
}
