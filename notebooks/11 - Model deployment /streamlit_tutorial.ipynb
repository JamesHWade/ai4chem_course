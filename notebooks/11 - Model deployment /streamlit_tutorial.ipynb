{
 "cells": [
  {
   "cell_type": "markdown",
   "metadata": {},
   "source": [
    "[![Open in Streamlit](https://static.streamlit.io/badges/streamlit_badge_black_white.svg)](https://victorsabanza-reaxplorer-app-0xuchr.streamlit.app/)\n",
    "\n",
    "## Model deployment in Streamlit "
   ]
  },
  {
   "cell_type": "markdown",
   "metadata": {},
   "source": [
    "In this tutorial, we will see how we can deploy our models using [Streamlit](https://streamlit.io/). Streamlit is an open-source Python library that makes it easy to create and share beautiful, custom web apps for machine learning and data science. We can use Streamlit to create a web app that will allow us to interact with our model.\n",
    "\n",
    "This notebook does not contain exercises, it will be a walkthrough of the steps to deploy a model in Streamlit with a practical example. We use the code in this GitHub [repository](https://github.com/victorsabanza/reaxplorer) as an example. You can have a look to the deployed app by clicking on the Streamlit badge above (don't worry, we will explain step by step the code to create it)."
   ]
  },
  {
   "cell_type": "markdown",
   "metadata": {},
   "source": [
    "# 0. Relevant packages\n",
    "\n",
    "### Streamlit\n",
    "\n",
    "First, we will need to install Streamlit in our conda environment. You just need to pip install it and you will be able to use it."
   ]
  },
  {
   "cell_type": "code",
   "execution_count": null,
   "metadata": {},
   "outputs": [],
   "source": [
    "!pip install streamlit\n",
    "\n",
    "#install streamlit ketcher, a molecular editor\n",
    "!pip install streamlit-ketcher"
   ]
  },
  {
   "cell_type": "markdown",
   "metadata": {},
   "source": [
    "# 1. Setting up our repo\n",
    "\n",
    "After training our model, we will have a GitHub repo containing our beautiful code. You have already done a great "
   ]
  }
 ],
 "metadata": {
  "kernelspec": {
   "display_name": "Python 3.9.12 ('base')",
   "language": "python",
   "name": "python3"
  },
  "language_info": {
   "name": "python",
   "version": "3.9.12"
  },
  "orig_nbformat": 4,
  "vscode": {
   "interpreter": {
    "hash": "1be16fbddf550357e4e46540ee01bc6d12a48d7bc56fc8427cd30121d5943dc8"
   }
  }
 },
 "nbformat": 4,
 "nbformat_minor": 2
}
